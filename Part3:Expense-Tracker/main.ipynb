{
 "cells": [
  {
   "cell_type": "markdown",
   "metadata": {},
   "source": [
    "En este proyecto, vas a construir un simple, pero funcional rastreador de gastos en Python"
   ]
  },
  {
   "cell_type": "code",
   "execution_count": null,
   "metadata": {},
   "outputs": [],
   "source": [
    "def add_expense(expenses,amount, category):\n",
    "    pass"
   ]
  },
  {
   "cell_type": "code",
   "execution_count": null,
   "metadata": {},
   "outputs": [],
   "source": [
    "# lista\n",
    "expenses = []"
   ]
  },
  {
   "cell_type": "code",
   "execution_count": null,
   "metadata": {},
   "outputs": [],
   "source": [
    "def add_expense_3(expenses, amount, category):\n",
    "    expenses.append()\n",
    "\n",
    "expenses = []"
   ]
  },
  {
   "cell_type": "code",
   "execution_count": null,
   "metadata": {},
   "outputs": [],
   "source": [
    "#diccionario \n",
    "# dicc = { 'amount': 50.0, 'category': 'Food'}\n",
    "\n",
    "def add_expense_4(expenses, amount, category):\n",
    "    expenses.append({'amount' : amount})\n",
    "\n",
    "expenses = []\n"
   ]
  },
  {
   "cell_type": "code",
   "execution_count": null,
   "metadata": {},
   "outputs": [],
   "source": [
    "def add_expense_5(expenses, amount, category):\n",
    "    expenses.append({'amount': amount , 'category' : category})\n",
    "\n",
    "expenses = []"
   ]
  },
  {
   "cell_type": "code",
   "execution_count": null,
   "metadata": {},
   "outputs": [],
   "source": [
    "# step 6\n",
    "def add_expense_6(expenses, amount, category):\n",
    "    expenses.append({'amount': amount, 'category': category})\n",
    "\n",
    "def print_expenses(expenses):\n",
    "    pass\n",
    "\n",
    "expenses = []"
   ]
  },
  {
   "cell_type": "code",
   "execution_count": null,
   "metadata": {},
   "outputs": [],
   "source": [
    "def add_expense_7(expenses, amount, category):\n",
    "    expenses.append({'amount': amount, 'category': category})\n",
    "\n",
    "def print_expenses_7(expenses):\n",
    "    for expense in expenses :\n",
    "        pass\n",
    "\n",
    "expenses = []"
   ]
  },
  {
   "cell_type": "code",
   "execution_count": null,
   "metadata": {},
   "outputs": [],
   "source": [
    "def add_expense_8(expenses, amount, category):\n",
    "    expenses.append({'amount': amount, 'category': category})\n",
    "\n",
    "def print_expenses_8(expenses):\n",
    "    for expense in expenses:\n",
    "        print(f'Amount: {expense}, Category: {expense}')\n",
    "\n",
    "\n",
    "expenses = []"
   ]
  },
  {
   "cell_type": "code",
   "execution_count": null,
   "metadata": {},
   "outputs": [],
   "source": [
    "def add_expense_9(expenses, amount, category):\n",
    "    expenses.append({'amount': amount, 'category': category})\n",
    "\n",
    "def print_expenses_9(expenses):\n",
    "    for expense in expenses:\n",
    "        print(f'Amount: {expense[\"amount\"]}, Category: {expense[\"category\"]}')\n",
    "        pass\n",
    "\n",
    "expenses = []"
   ]
  },
  {
   "cell_type": "code",
   "execution_count": null,
   "metadata": {},
   "outputs": [],
   "source": [
    "def add_expense_10(expenses, amount, category):\n",
    "    expenses.append({'amount': amount, 'category': category})\n",
    "\n",
    "def print_expenses_10(expenses):\n",
    "    for expense in expenses:\n",
    "        print(f'Amount: {expense[\"amount\"]}, Category: {expense[\"category\"]}')\n",
    "def total_expenses_10(expenses):\n",
    "    pass\n",
    "\n",
    "\n",
    "expenses = []"
   ]
  },
  {
   "cell_type": "code",
   "execution_count": null,
   "metadata": {},
   "outputs": [],
   "source": [
    "# Lambda Funtion\n",
    "\n",
    "def add_expense_11(expenses, amount, category):\n",
    "    expenses.append({'amount': amount, 'category': category})\n",
    "\n",
    "def print_expenses_11(expenses):\n",
    "    for expense in expenses:\n",
    "        print(f'Amount: {expense[\"amount\"]}, Category: {expense[\"category\"]}')\n",
    "\n",
    "def total_expenses_11(expenses):\n",
    "    pass\n",
    "\n",
    "test = lambda x : x * 2\n",
    "\n",
    "\n",
    "expenses = []"
   ]
  },
  {
   "cell_type": "code",
   "execution_count": null,
   "metadata": {},
   "outputs": [],
   "source": [
    "def add_expense_12(expenses, amount, category):\n",
    "    expenses.append({'amount': amount, 'category': category})\n",
    "\n",
    "def print_expenses_12(expenses):\n",
    "    for expense in expenses:\n",
    "        print(f'Amount: {expense[\"amount\"]}, Category: {expense[\"category\"]}')\n",
    "\n",
    "def total_expenses_12(expenses):\n",
    "    pass\n",
    "\n",
    "test = lambda x: x * 2\n",
    "\n",
    "print(test(3))\n",
    "\n",
    "\n",
    "expenses = []"
   ]
  },
  {
   "cell_type": "code",
   "execution_count": null,
   "metadata": {},
   "outputs": [],
   "source": [
    "def add_expense_13(expenses, amount, category):\n",
    "    expenses.append({'amount': amount, 'category': category})\n",
    "\n",
    "def print_expenses_13(expenses):\n",
    "    for expense in expenses:\n",
    "        print(f'Amount: {expense[\"amount\"]}, Category: {expense[\"category\"]}')\n",
    "\n",
    "def total_expenses_13(expenses):\n",
    "    pass\n",
    "\n",
    "test = lambda x: x * 2\n",
    "print(map(test,[2,3,5,8]))\n",
    "\n",
    "expenses = []"
   ]
  },
  {
   "cell_type": "code",
   "execution_count": null,
   "metadata": {},
   "outputs": [],
   "source": [
    "def add_expense_14(expenses, amount, category):\n",
    "    expenses.append({'amount': amount, 'category': category})\n",
    "\n",
    "def print_expenses_14(expenses):\n",
    "    for expense in expenses:\n",
    "        print(f'Amount: {expense[\"amount\"]}, Category: {expense[\"category\"]}')\n",
    "\n",
    "def total_expenses_14(expenses):\n",
    "    pass\n",
    "\n",
    "test = lambda x: x * 2\n",
    "print(sum(map(test, [2, 3, 5, 8])))\n",
    "\n",
    "expenses = []"
   ]
  },
  {
   "cell_type": "code",
   "execution_count": null,
   "metadata": {},
   "outputs": [],
   "source": [
    "def add_expense_15(expenses, amount, category):\n",
    "    expenses.append({'amount': amount, 'category': category})\n",
    "\n",
    "def print_expenses_15(expenses):\n",
    "    for expense in expenses:\n",
    "        print(f'Amount: {expense[\"amount\"]}, Category: {expense[\"category\"]}')\n",
    "\n",
    "def total_expenses_15(expenses):\n",
    "    pass\n",
    "\n",
    "\n",
    "\n",
    "expenses = []"
   ]
  },
  {
   "cell_type": "code",
   "execution_count": null,
   "metadata": {},
   "outputs": [],
   "source": [
    "\"\"\"\n",
    "\n",
    "Dentro de su función total_gastos, \n",
    "sustituya pass por una función lambda.\n",
    " Utiliza gasto (expense) como parámetro y devuelve \n",
    " el valor de la clave 'importe' 'amount' del diccionario de gastos expense.\n",
    "\n",
    "\"\"\"\n",
    "\n",
    "def add_expense_16(expenses, amount, category):\n",
    "    expenses.append({'amount': amount, 'category': category})\n",
    "\n",
    "def print_expenses_16(expenses):\n",
    "    for expense in expenses:\n",
    "        print(f'Amount: {expense[\"amount\"]}, Category: {expense[\"category\"]}')\n",
    "\n",
    "def total_expenses_16(expenses):\n",
    "    lambda expense : expense[\"amount\"]\n",
    "\n",
    "expenses = []"
   ]
  },
  {
   "cell_type": "code",
   "execution_count": null,
   "metadata": {},
   "outputs": [],
   "source": [
    "\"\"\"\n",
    "Ahora, llama a map() pasando tu función lambda como primer argumento \n",
    "y la lista de gastos como segundo argumento.\n",
    "\n",
    "\n",
    "\"\"\"\n",
    "\n",
    "def add_expense_17(expenses, amount, category):\n",
    "    expenses.append({'amount': amount, 'category': category})\n",
    "\n",
    "def print_expenses_17(expenses):\n",
    "    for expense in expenses:\n",
    "        print(f'Amount: {expense[\"amount\"]}, Category: {expense[\"category\"]}')\n",
    "\n",
    "def total_expenses_17(expenses):\n",
    "    map(lambda expense: expense['amount'], expenses)\n",
    "\n",
    "expenses = []"
   ]
  },
  {
   "cell_type": "code",
   "execution_count": null,
   "metadata": {},
   "outputs": [],
   "source": [
    "\"\"\"\n",
    "Por último, pasa tu llamada a map()\n",
    " a la función sum() para obtener el total de gastos y\n",
    " devuelve el resultado.\n",
    "\n",
    "\"\"\"\n",
    "\n",
    "\n",
    "def add_expense_18(expenses, amount, category):\n",
    "    expenses.append({'amount': amount, 'category': category})\n",
    "\n",
    "def print_expenses_18(expenses):\n",
    "    for expense in expenses:\n",
    "        print(f'Amount: {expense[\"amount\"]}, Category: {expense[\"category\"]}')\n",
    "\n",
    "def total_expenses_18(expenses):\n",
    "    return sum(map(lambda expense: expense['amount'], expenses))\n",
    "\n",
    "\n",
    "expenses = []"
   ]
  },
  {
   "cell_type": "code",
   "execution_count": null,
   "metadata": {},
   "outputs": [],
   "source": [
    "def add_expense_19(expenses, amount, category):\n",
    "    expenses.append({'amount': amount, 'category': category})\n",
    "\n",
    "def print_expenses_19(expenses):\n",
    "    for expense in expenses:\n",
    "        print(f'Amount: {expense[\"amount\"]}, Category: {expense[\"category\"]}')\n",
    "\n",
    "def total_expense_19s(expenses):\n",
    "    return sum(map(lambda expense: expense['amount'], expenses))\n",
    "\n",
    "def filter_expenses_by_category_19(expenses, category):\n",
    "    pass\n",
    "    \n",
    "\n",
    "expenses = []"
   ]
  },
  {
   "cell_type": "code",
   "execution_count": null,
   "metadata": {},
   "outputs": [],
   "source": [
    "\"\"\"\n",
    "Dentro de la función filter_expenses_by_category,\n",
    " sustituya pass por una función lambda. Utiliza gasto \n",
    " como parámetro y devuelve la comparación entre el valor de la clave\n",
    " 'categoría' del diccionario de gastos y categoría.\n",
    "\n",
    "\"\"\"\n",
    "\n",
    "def add_expense_20(expenses, amount, category):\n",
    "    expenses.append({'amount': amount, 'category': category})\n",
    "\n",
    "def print_expenses_20(expenses):\n",
    "    for expense in expenses:\n",
    "        print(f'Amount: {expense[\"amount\"]}, Category: {expense[\"category\"]}')\n",
    "\n",
    "def total_expenses_20(expenses):\n",
    "    return sum(map(lambda expense: expense['amount'], expenses))\n",
    "\n",
    "def filter_expenses_by_category_20(expenses, category):\n",
    "    lambda expense : expense['category'] == category\n",
    "\n",
    "expenses = []"
   ]
  },
  {
   "cell_type": "code",
   "execution_count": null,
   "metadata": {},
   "outputs": [],
   "source": [
    "\"\"\"\n",
    "La función filter() permite seleccionar elementos de un iterable, \n",
    "como una lista, basándose en la salida de una función:\n",
    "\n",
    "filter(mi_funcion, mi_lista)\n",
    "filter() devuelve un iterador en el que se incluyen\n",
    " los elementos de mi_lista, para los que mi_función devuelve True. \n",
    " Un iterador es un objeto especial que permite iterar sobre los elementos\n",
    " de una colección, como una lista.\n",
    "\n",
    "Dentro de la función filter_expenses_by_category, \n",
    "llame a filter() pasando la función lambda que escribió \n",
    "en el paso anterior como primer argumento y la lista de gastos \n",
    "como segundo argumento.\n",
    "\n",
    "\n",
    "\"\"\"\n",
    "\n",
    "def add_expense_21(expenses, amount, category):\n",
    "    expenses.append({'amount': amount, 'category': category})\n",
    "\n",
    "def print_expenses_21(expenses):\n",
    "    for expense in expenses:\n",
    "        print(f'Amount: {expense[\"amount\"]}, Category: {expense[\"category\"]}')\n",
    "\n",
    "def total_expenses_21(expenses):\n",
    "    return sum(map(lambda expense: expense['amount'], expenses))\n",
    "\n",
    "def filter_expenses_by_category_21(expenses, category):\n",
    "    lambda expense: expense['category'] == category\n",
    "\n",
    "    filter (lambda expense: expense['category'] == category, expenses)\n",
    "\n",
    "expenses = []"
   ]
  },
  {
   "cell_type": "code",
   "execution_count": null,
   "metadata": {},
   "outputs": [],
   "source": [
    "\"\"\"\n",
    "Finally, return the result of the filter() call.\n",
    "\"\"\"\n",
    "\n",
    "def add_expense_22(expenses, amount, category):\n",
    "    expenses.append({'amount': amount, 'category': category})\n",
    "\n",
    "def print_expenses_22(expenses):\n",
    "    for expense in expenses:\n",
    "        print(f'Amount: {expense[\"amount\"]}, Category: {expense[\"category\"]}')\n",
    "\n",
    "def total_expenses_22(expenses):\n",
    "    return sum(map(lambda expense: expense['amount'], expenses))\n",
    "\n",
    "def filter_expenses_by_category_22(expenses, category):\n",
    "    lambda expense: expense['category'] == category\n",
    "\n",
    "    return filter (lambda expense: expense['category'] == category, expenses)\n",
    "\n",
    "expenses = []"
   ]
  }
 ],
 "metadata": {
  "language_info": {
   "name": "python"
  }
 },
 "nbformat": 4,
 "nbformat_minor": 2
}
