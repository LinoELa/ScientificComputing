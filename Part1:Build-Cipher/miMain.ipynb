{
 "cells": [
  {
   "cell_type": "code",
   "execution_count": 1,
   "metadata": {},
   "outputs": [],
   "source": [
    "# Cifrado Cesar y Cifrado Vigenere"
   ]
  },
  {
   "cell_type": "code",
   "execution_count": 7,
   "metadata": {},
   "outputs": [
    {
     "name": "stdout",
     "output_type": "stream",
     "text": [
      "Z ---- 7\n",
      "B ---- 17\n",
      "C ----  r\n",
      "D --- Hola amigo Hola amigo\n",
      "Z ---- 14\n",
      "B ---- 24\n",
      "C ----  ry\n",
      "D --- Hola amigo Hola amigo\n",
      "Z ---- 11\n",
      "B ---- 21\n",
      "C ----  ryv\n",
      "D --- Hola amigo Hola amigo\n",
      "Z ---- 0\n",
      "B ---- 10\n",
      "C ----  ryvk\n",
      "D --- Hola amigo Hola amigo\n",
      "A ---- Hola amigo\n",
      "Z ---- 0\n",
      "B ---- 10\n",
      "C ----  ryvk k\n",
      "D --- Hola amigo Hola amigo\n",
      "Z ---- 12\n",
      "B ---- 22\n",
      "C ----  ryvk kw\n",
      "D --- Hola amigo Hola amigo\n",
      "Z ---- 8\n",
      "B ---- 18\n",
      "C ----  ryvk kws\n",
      "D --- Hola amigo Hola amigo\n",
      "Z ---- 6\n",
      "B ---- 16\n",
      "C ----  ryvk kwsk\n",
      "D --- Hola amigo Hola amigo\n",
      "Z ---- 14\n",
      "B ---- 24\n",
      "C ----  ryvk kwsky\n",
      "D --- Hola amigo Hola amigo\n"
     ]
    }
   ],
   "source": [
    "\n",
    "# Encriptacion Cesar \n",
    "\n",
    "texto = 'Hola amigo'\n",
    "cambio = 3 \n",
    "\n",
    "def cesar (mensaje , intervalo):\n",
    "    abcedario = 'abcdefghijklmnopkrstuvwxyz'\n",
    "    texto_encriptado = ''\n",
    "\n",
    "    for char in mensaje.lower():\n",
    "        if char == ' ':\n",
    "            texto_encriptado += char\n",
    "            print('A ----',texto)\n",
    "        else:\n",
    "            indice = abcedario.find(char)\n",
    "            print('Z ----',indice)\n",
    "            nuevo_indice = (indice + intervalo ) % len(abcedario)\n",
    "            print('B ----',nuevo_indice)\n",
    "\n",
    "            texto_encriptado += abcedario[nuevo_indice]\n",
    "            print('C ---- ',texto_encriptado)\n",
    "\n",
    "            print('D ---', texto, mensaje)\n",
    "            # print('E ---','texto encriptado', mensaje)\n",
    "\n",
    "cesar(texto , 10)"
   ]
  },
  {
   "cell_type": "code",
   "execution_count": 9,
   "metadata": {},
   "outputs": [
    {
     "name": "stdout",
     "output_type": "stream",
     "text": [
      "\n",
      "Encrypted text: mrttaqrhknsw ih puggrur\n",
      "Key: python\n",
      "\n",
      "Decrypted text: xtammdcjrgej tj wnstcwy\n",
      "\n"
     ]
    }
   ],
   "source": [
    "# Encriptacion Vigenere\n",
    "\n",
    "text = 'mrttaqrhknsw ih puggrur'\n",
    "custom_key = 'python'\n",
    "\n",
    "def vigenere(message, key, direction=1):\n",
    "    key_index = 0\n",
    "    alphabet = 'abcdefghijklmnopqrstuvwxyz'\n",
    "    final_message = ''\n",
    "\n",
    "    for char in message.lower():\n",
    "\n",
    "        # Append any non-letter character to the message\n",
    "        if not char.isalpha():\n",
    "            final_message += char\n",
    "        else:        \n",
    "            # Find the right key character to encode/decode\n",
    "            key_char = key[key_index % len(key)]\n",
    "            key_index += 1\n",
    "\n",
    "            # Define the offset and the encrypted/decrypted letter\n",
    "            offset = alphabet.index(key_char)\n",
    "            index = alphabet.find(char)\n",
    "            new_index = (index + offset*direction) % len(alphabet)\n",
    "            final_message += alphabet[new_index]\n",
    "    \n",
    "    return final_message\n",
    "\n",
    "def encrypt(message, key):\n",
    "    return vigenere(message, key)\n",
    "    \n",
    "def decrypt(message, key):\n",
    "    return vigenere(message, key, -1)\n",
    "\n",
    "print(f'\\nEncrypted text: {text}')\n",
    "print(f'Key: {custom_key}')\n",
    "decryption = decrypt(text, custom_key)\n",
    "print(f'\\nDecrypted text: {decryption}\\n')"
   ]
  }
 ],
 "metadata": {
  "kernelspec": {
   "display_name": "ScientificComputing",
   "language": "python",
   "name": "python3"
  },
  "language_info": {
   "codemirror_mode": {
    "name": "ipython",
    "version": 3
   },
   "file_extension": ".py",
   "mimetype": "text/x-python",
   "name": "python",
   "nbconvert_exporter": "python",
   "pygments_lexer": "ipython3",
   "version": "3.12.3"
  }
 },
 "nbformat": 4,
 "nbformat_minor": 2
}
