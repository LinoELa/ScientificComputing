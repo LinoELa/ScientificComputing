{
 "cells": [
  {
   "cell_type": "markdown",
   "metadata": {},
   "source": [
    "SCIENTIFIC COMPUTING WHIT PYTHON es  el mejor curso con proyectos para enntender como funcionan los algoritmos mediante proyectos , cada seccion es un proyecto que te mejora la capacidad de entendimiento de algoritmo , estructura de datos , manejo y uso de python."
   ]
  },
  {
   "cell_type": "code",
   "execution_count": null,
   "metadata": {},
   "outputs": [],
   "source": [
    "# variable\n",
    "numeber = 5 \n",
    "\n",
    "# string \n",
    "text = 'Hello World'\n",
    "shift = 3\n",
    "\n",
    "\n",
    "#funcino print()\n",
    "print(text)\n",
    "\n",
    "print(text[6])\n",
    "\n",
    "print(text[-1])\n",
    "\n",
    "print(len(text))\n",
    "\n",
    "print(type(text))\n",
    "\n",
    "\n",
    "\n",
    "print(shift)\n",
    "print(type(shift))\n",
    "\n",
    "\n",
    "\n",
    "\n",
    "\n"
   ]
  },
  {
   "cell_type": "code",
   "execution_count": 4,
   "metadata": {},
   "outputs": [],
   "source": [
    "alphabet = 'abcdefghijklmnopqrstuvwxyz'"
   ]
  },
  {
   "cell_type": "markdown",
   "metadata": {},
   "source": [
    ".find() => encontrar la posidcion de un una letra\n",
    "\n",
    "Un metodo es similar a una funcio pero pertenece a una objeto"
   ]
  },
  {
   "cell_type": "code",
   "execution_count": 5,
   "metadata": {},
   "outputs": [
    {
     "data": {
      "text/plain": [
       "4"
      ]
     },
     "execution_count": 5,
     "metadata": {},
     "output_type": "execute_result"
    }
   ],
   "source": [
    "sentence = 'My brain hurts'\n",
    "sentence.find('r')"
   ]
  },
  {
   "cell_type": "markdown",
   "metadata": {},
   "source": [
    "The first kind of cipher you are going to build is called a Caesar cipher. Specifically, you will take each letter in your message, find its position in the alphabet, take the letter located after 3 positions in the alphabet, and replace the original letter with the new letter.\n",
    "\n",
    "El primer tipo de cifrado que vas a construir se llama 'cifrado César'. En concreto, tomarás cada letra de tu mensaje, encontrarás su posición en el alfabeto, tomarás la letra situada después de 3 posiciones en el alfabeto y sustituirás la letra original por la nueva letra.\n",
    "\n",
    "Para implementar esto, utilizará el método .find() discutido en el paso anterior. Modifique su llamada .find() existente pasándole text[0] como argumento en lugar de 'z'.\n"
   ]
  },
  {
   "cell_type": "code",
   "execution_count": 13,
   "metadata": {},
   "outputs": [
    {
     "data": {
      "text/plain": [
       "4"
      ]
     },
     "execution_count": 13,
     "metadata": {},
     "output_type": "execute_result"
    }
   ],
   "source": [
    "text = 'Hello World'\n",
    "shift = 3\n",
    "\n",
    "alphabet =  'abcdefghijklmnopqrstuvwxyz'\n",
    "alphabet.find(text[1])"
   ]
  },
  {
   "cell_type": "markdown",
   "metadata": {},
   "source": [
    "Ahora asigna alfabeto.find(texto[0]) a una variable llamada índice. De esta forma, index almacenará el valor devuelto por alphabet.find(text[0]).\n"
   ]
  },
  {
   "cell_type": "code",
   "execution_count": 19,
   "metadata": {},
   "outputs": [],
   "source": [
    "text = 'Hello World'\n",
    "shift = 3\n",
    "\n",
    "alphabet =  'abcdefghijklmnopqrstuvwxyz'\n",
    "# alphabet.find(text[1])\n",
    "\n",
    "index = alphabet.find(text[1])\n",
    "print(index)"
   ]
  },
  {
   "cell_type": "markdown",
   "metadata": {},
   "source": [
    ".find() devuelve el índice del carácter coincidente dentro de la cadena. Si no se encuentra el carácter, devuelve -1. Como puede ver, el primer carácter del texto, la 'H' mayúscula, no se encuentra, ya que el alfabeto sólo contiene letras minúsculas.\n",
    "\n",
    "Puedes transformar una cadena en su equivalente en minúsculas con el método .lower(). Añada otra llamada a print() para imprimir text.lower() y vea la salida"
   ]
  },
  {
   "cell_type": "code",
   "execution_count": null,
   "metadata": {},
   "outputs": [],
   "source": [
    "text = 'Hello World'\n",
    "shift = 3\n",
    "alphabet = 'abcdefghijklmnopqrstuvwxyz'\n",
    "index = alphabet.find(text[0])\n",
    "print(index)\n",
    "\n",
    "print(text.lower())\n",
    "\n"
   ]
  },
  {
   "cell_type": "code",
   "execution_count": 20,
   "metadata": {},
   "outputs": [
    {
     "name": "stdout",
     "output_type": "stream",
     "text": [
      "7\n"
     ]
    }
   ],
   "source": [
    "text = 'Hello World'\n",
    "shift = 3\n",
    "alphabet = 'abcdefghijklmnopqrstuvwxyz'\n",
    "index = alphabet.find(text[0].lower())\n",
    "print(index)\n",
    "\n",
    "# print(text.lower())\n",
    "\n"
   ]
  },
  {
   "cell_type": "markdown",
   "metadata": {},
   "source": [
    "Declare a new variable named shifted. Use the bracket notation to access the value of alphabet at index index and assign it to your new variable.\n",
    "\n",
    "Declara una nueva variable llamada shifted. Utilice la notación de corchetes para acceder al valor de alfabeto en el índice index y asignarlo a su nueva variable.\n"
   ]
  },
  {
   "cell_type": "code",
   "execution_count": 31,
   "metadata": {},
   "outputs": [
    {
     "name": "stdout",
     "output_type": "stream",
     "text": [
      "7\n",
      "k\n"
     ]
    }
   ],
   "source": [
    "text = 'Hello World'\n",
    "shift = 3\n",
    "alphabet = 'abcdefghijklmnopqrstuvwxyz'\n",
    "index = alphabet.find(text[0].lower())\n",
    "print(index)\n",
    "shifted = alphabet[index + shift]\n",
    "print(shifted)"
   ]
  },
  {
   "cell_type": "markdown",
   "metadata": {},
   "source": [
    "Step 22\n",
    "Repetir el proceso de localizar la letra dentro del alfabeto y determinar la letra desplazada para cada carácter del texto puede resultar tedioso. Afortunadamente, puedes simplificarlo utilizando un bucle.\n",
    "\n",
    "Por ahora, elimine todas las líneas de código por debajo de la declaración de la variable alfabeto."
   ]
  },
  {
   "cell_type": "code",
   "execution_count": 37,
   "metadata": {},
   "outputs": [
    {
     "name": "stdout",
     "output_type": "stream",
     "text": [
      "a\n",
      "b\n",
      "c\n",
      "d\n",
      "e\n",
      "f\n",
      "g\n",
      "h\n",
      "i\n",
      "j\n",
      "k\n",
      "l\n",
      "m\n",
      "n\n",
      "o\n",
      "p\n",
      "q\n",
      "r\n",
      "s\n",
      "t\n",
      "u\n",
      "v\n",
      "w\n",
      "x\n",
      "y\n",
      "z\n"
     ]
    }
   ],
   "source": [
    "text = 'Hello World'\n",
    "shift = 3\n",
    "alphabet = 'abcdefghijklmnopqrstuvwxyz'\n",
    "\n",
    "for i in alphabet:\n",
    "    print(i)  # noqa: F706\n",
    "\n",
    "\n"
   ]
  },
  {
   "cell_type": "markdown",
   "metadata": {},
   "source": [
    "Step 23\n",
    "\n",
    "Un bucle permite recorrer sistemáticamente una secuencia de elementos y ejecutar acciones en cada uno de ellos.\n",
    "\n",
    "for i in text:\n",
    "\n",
    "for es la palabra clave que denota el tipo de bucle. i es una variable que toma secuencialmente el valor de los elementos del texto. La declaración termina con dos puntos, :.\n",
    "\n",
    "Debajo de la línea donde declaró alphabet, escriba un bucle for para iterar sobre el texto. Utilice i como variable de bucle.\n",
    "\n"
   ]
  },
  {
   "cell_type": "code",
   "execution_count": 39,
   "metadata": {},
   "outputs": [
    {
     "name": "stdout",
     "output_type": "stream",
     "text": [
      "H\n",
      "e\n",
      "l\n",
      "l\n",
      "o\n",
      " \n",
      "W\n",
      "o\n",
      "r\n",
      "l\n",
      "d\n"
     ]
    }
   ],
   "source": [
    "text = 'Hello World'\n",
    "shift = 3\n",
    "alphabet = 'abcdefghijklmnopqrstuvwxyz'\n",
    "\n",
    "for i in text:\n",
    "    print(i)"
   ]
  },
  {
   "cell_type": "code",
   "execution_count": 40,
   "metadata": {},
   "outputs": [
    {
     "name": "stdout",
     "output_type": "stream",
     "text": [
      "H -1\n",
      "e 4\n",
      "l 11\n",
      "l 11\n",
      "o 14\n",
      "  -1\n",
      "W -1\n",
      "o 14\n",
      "r 17\n",
      "l 11\n",
      "d 3\n"
     ]
    }
   ],
   "source": [
    "text = 'Hello World'\n",
    "shift = 3\n",
    "alphabet = 'abcdefghijklmnopqrstuvwxyz'\n",
    "\n",
    "for char in text:\n",
    "    index = alphabet.find(char)\n",
    "    print(char, index)"
   ]
  },
  {
   "cell_type": "code",
   "execution_count": 41,
   "metadata": {},
   "outputs": [
    {
     "name": "stdout",
     "output_type": "stream",
     "text": [
      "h 7\n",
      "e 4\n",
      "l 11\n",
      "l 11\n",
      "o 14\n",
      "  -1\n",
      "w 22\n",
      "o 14\n",
      "r 17\n",
      "l 11\n",
      "d 3\n"
     ]
    }
   ],
   "source": [
    "text = 'Hello World'\n",
    "shift = 3\n",
    "alphabet = 'abcdefghijklmnopqrstuvwxyz'\n",
    "\n",
    "for char in text.lower():\n",
    "    index = alphabet.find(char)\n",
    "    print(char, index)"
   ]
  },
  {
   "cell_type": "markdown",
   "metadata": {},
   "source": [
    "Como puede ver en el mensaje de error, las cadenas no admiten la asignación de elementos, porque son inmutables. Sin embargo, a una variable se le puede reasignar otra cadena:\n",
    "\n"
   ]
  },
  {
   "cell_type": "code",
   "execution_count": null,
   "metadata": {},
   "outputs": [],
   "source": [
    "text = 'Hello World'\n",
    "text = 'Albatross'\n",
    "shift = 3\n",
    "alphabet = 'abcdefghijklmnopqrstuvwxyz'\n",
    "\n",
    "for char in text.lower():\n",
    "    index = alphabet.find(char)\n",
    "    print(char, index)\n",
    "    new_index = index + shift\n"
   ]
  },
  {
   "cell_type": "markdown",
   "metadata": {},
   "source": [
    "Ahora, en lugar de imprimir '¡espacio!', utiliza el operador de asignación de suma para añadir el espacio (actualmente almacenado en char) al valor actual de texto_cifrado.\n",
    "\n"
   ]
  },
  {
   "cell_type": "code",
   "execution_count": 46,
   "metadata": {},
   "outputs": [
    {
     "name": "stdout",
     "output_type": "stream",
     "text": [
      "encrypted text: k\n",
      "encrypted text: kh\n",
      "encrypted text: kho\n",
      "encrypted text: khoo\n",
      "encrypted text: khoor\n",
      "encrypted text: khoor \n",
      "encrypted text: khoor c\n",
      "encrypted text: khoor cd\n",
      "encrypted text: khoor cdl\n",
      "encrypted text: khoor cdlu\n",
      "encrypted text: khoor cdlud\n"
     ]
    }
   ],
   "source": [
    "text = 'Hello Zaira'\n",
    "shift = 3\n",
    "alphabet = 'abcdefghijklmnopqrstuvwxyz'\n",
    "encrypted_text = ''\n",
    "\n",
    "for char in text.lower():\n",
    "    if char == ' ':\n",
    "        encrypted_text += char\n",
    "    else:\n",
    "        index = alphabet.find(char)\n",
    "        new_index = (index + shift) % len(alphabet)\n",
    "        encrypted_text += alphabet[new_index]\n",
    "    print('encrypted text:', encrypted_text)"
   ]
  },
  {
   "cell_type": "code",
   "execution_count": 54,
   "metadata": {},
   "outputs": [
    {
     "name": "stdout",
     "output_type": "stream",
     "text": [
      "h\n",
      "ke\n",
      "khl\n",
      "khol\n",
      "khooo\n",
      "khoor \n",
      "khoor \n",
      "khoor z\n",
      "khoor ca\n",
      "khoor cdi\n",
      "khoor cdlr\n",
      "khoor cdlua\n",
      "encrypted text: khoor cdlud\n"
     ]
    }
   ],
   "source": [
    "text = 'Hello Zaira'\n",
    "shift = 3\n",
    "alphabet = 'abcdefghijklmnopqrstuvwxyz'\n",
    "encrypted_text = ''\n",
    "\n",
    "for char in text.lower():\n",
    "    print(encrypted_text + char)\n",
    "    if char == ' ':\n",
    "        encrypted_text += char\n",
    "        print(encrypted_text)\n",
    "    else:\n",
    "        index = alphabet.find(char)\n",
    "        new_index = (index + shift) % len(alphabet)\n",
    "        encrypted_text += alphabet[new_index]\n",
    "print('encrypted text:', encrypted_text)"
   ]
  },
  {
   "cell_type": "markdown",
   "metadata": {},
   "source": [
    "Step 56 : Cezar acabado \n",
    "Actualmente, cada letra se cifra siempre con la misma letra, dependiendo del desplazamiento especificado. ¿Y si el desplazamiento fuera diferente para cada letra? Sería mucho más difícil de descifrar. Este algoritmo se denomina cifrado de Vigenère, en el que el desplazamiento de cada letra viene determinado por otro texto, llamado clave.\n",
    "\n"
   ]
  },
  {
   "cell_type": "code",
   "execution_count": null,
   "metadata": {},
   "outputs": [],
   "source": [
    "text = 'Hello Zaira'\n",
    "shift = 3\n",
    "\n",
    "def caesar(message, offset):\n",
    "    alphabet = 'abcdefghijklmnopqrstuvwxyz'\n",
    "    encrypted_text = ''\n",
    "\n",
    "    for char in message.lower():\n",
    "        if char == ' ':\n",
    "            encrypted_text += char\n",
    "        else:\n",
    "            index = alphabet.find(char)\n",
    "            new_index = (index + offset) % len(alphabet)\n",
    "            encrypted_text += alphabet[new_index]\n",
    "    print('plain text:', message)\n",
    "    print('encrypted text:', encrypted_text)\n",
    "\n",
    "caesar(text, shift)\n",
    "caesar(text, 13)"
   ]
  },
  {
   "cell_type": "markdown",
   "metadata": {},
   "source": [
    "Step 68 : Vigenere encryptado "
   ]
  },
  {
   "cell_type": "code",
   "execution_count": 8,
   "metadata": {},
   "outputs": [
    {
     "name": "stdout",
     "output_type": "stream",
     "text": [
      "wcesc mpgkh\n"
     ]
    }
   ],
   "source": [
    "text = 'Hello Zaira'\n",
    "custom_key = 'python'\n",
    "\n",
    "def vigenere(message, key, direction):\n",
    "    key_index = 0\n",
    "    alphabet = 'abcdefghijklmnopqrstuvwxyz'\n",
    "    encrypted_text = ''\n",
    "\n",
    "    for char in message.lower():\n",
    "    \n",
    "        # Append space to the message\n",
    "        if char == ' ':\n",
    "            encrypted_text += char\n",
    "        else:        \n",
    "            # Find the right key character to encode\n",
    "            key_char = key[key_index % len(key)]\n",
    "            key_index += 1\n",
    "\n",
    "            # Define the offset and the encrypted letter\n",
    "            offset = alphabet.index(key_char)\n",
    "            index = alphabet.find(char)\n",
    "            new_index = (index + offset*direction) % len(alphabet)\n",
    "            encrypted_text += alphabet[new_index]\n",
    "    \n",
    "    return encrypted_text\n",
    "encryption = vigenere(text, custom_key, 1)\n",
    "\n",
    "print(encryption)"
   ]
  },
  {
   "cell_type": "code",
   "execution_count": null,
   "metadata": {},
   "outputs": [],
   "source": [
    "# ahoa puedo encryptar y decryptar \n",
    "# mirar los comentarios\n",
    "text = 'Hello Zaira'\n",
    "custom_key = 'python'\n",
    "def vigenere(message, key, direction):\n",
    "    key_index = 0\n",
    "    alphabet = 'abcdefghijklmnopqrstuvwxyz'\n",
    "    final_message = ''\n",
    "\n",
    "    for char in message.lower():\n",
    "    \n",
    "        # Append space to the message\n",
    "        if char == ' ':\n",
    "            final_message += char\n",
    "        else:        \n",
    "            # Find the right key character to encode\n",
    "            key_char = key[key_index % len(key)]\n",
    "            key_index += 1\n",
    "\n",
    "            # Define the offset and the encrypted letter\n",
    "            offset = alphabet.index(key_char)\n",
    "            index = alphabet.find(char)\n",
    "            new_index = (index + offset*direction) % len(alphabet)\n",
    "            final_message += alphabet[new_index]\n",
    "    \n",
    "    return final_message\n",
    "encryption = vigenere(text, custom_key, 1)\n",
    "print(encryption)\n",
    "decryption = vigenere(encryption, custom_key, -1)\n",
    "print(decryption)\n"
   ]
  },
  {
   "cell_type": "code",
   "execution_count": null,
   "metadata": {},
   "outputs": [],
   "source": [
    "# mejorar los comentarios \n"
   ]
  },
  {
   "cell_type": "markdown",
   "metadata": {},
   "source": [
    "Step 68 : Vigenere DESENCRYPTAR\n"
   ]
  },
  {
   "cell_type": "code",
   "execution_count": 9,
   "metadata": {},
   "outputs": [
    {
     "name": "stdout",
     "output_type": "stream",
     "text": [
      "bpmaodgfdugj xf ibutgsk\n",
      "mrttaqrhknsw ih puggrur\n",
      "bpmaodgfdugj xf ibutgsk\n",
      "mrttaqrhknsw ih puggrur\n"
     ]
    }
   ],
   "source": [
    "text = 'mrttaqrhknsw ih puggrur'\n",
    "custom_key = 'python'\n",
    "def vigenere(message, key, direction=1):\n",
    "    key_index = 0\n",
    "    alphabet = 'abcdefghijklmnopqrstuvwxyz'\n",
    "    final_message = ''\n",
    "\n",
    "    for char in message.lower():\n",
    "\n",
    "        # Append any non-letter character to the message\n",
    "        if not char.isalpha():\n",
    "            final_message += char\n",
    "        else:        \n",
    "            # Find the right key character to encode/decode\n",
    "            key_char = key[key_index % len(key)]\n",
    "            key_index += 1\n",
    "\n",
    "            # Define the offset and the encrypted/decrypted letter\n",
    "            offset = alphabet.index(key_char)\n",
    "            index = alphabet.find(char)\n",
    "            new_index = (index + offset*direction) % len(alphabet)\n",
    "            final_message += alphabet[new_index]\n",
    "    \n",
    "    return final_message\n",
    "\n",
    "def encrypt(message, key):\n",
    "    return vigenere(message, key)\n",
    "    \n",
    "def decrypt(message, key):\n",
    "    return vigenere(message, key, -1)\n",
    "    \n",
    "encryption = encrypt(text, custom_key)\n",
    "print(encryption)\n",
    "decryption = decrypt(encryption, custom_key)\n",
    "print(decryption)\n",
    "\n",
    "def vigenere(message, key, direction=1):\n",
    "    key_index = 0\n",
    "    alphabet = 'abcdefghijklmnopqrstuvwxyz'\n",
    "    final_message = ''\n",
    "\n",
    "    for char in message.lower():\n",
    "\n",
    "        # Append any non-letter character to the message\n",
    "        if not char.isalpha():\n",
    "            final_message += char\n",
    "        else:        \n",
    "            # Find the right key character to encode/decode\n",
    "            key_char = key[key_index % len(key)]\n",
    "            key_index += 1\n",
    "\n",
    "            # Define the offset and the encrypted/decrypted letter\n",
    "            offset = alphabet.index(key_char)\n",
    "            index = alphabet.find(char)\n",
    "            new_index = (index + offset*direction) % len(alphabet)\n",
    "            final_message += alphabet[new_index]\n",
    "    \n",
    "    return final_message\n",
    "\n",
    "def encrypt(message, key):\n",
    "    return vigenere(message, key)\n",
    "    \n",
    "def decrypt(message, key):\n",
    "    return vigenere(message, key, -1)\n",
    "    \n",
    "encryption = encrypt(text, custom_key)\n",
    "print(encryption)\n",
    "decryption = decrypt(encryption, custom_key)\n",
    "print(decryption)"
   ]
  },
  {
   "cell_type": "code",
   "execution_count": null,
   "metadata": {},
   "outputs": [],
   "source": [
    "# PRUEBAS DE ENCRYPTACION Y DESENCRYPTACION"
   ]
  },
  {
   "cell_type": "code",
   "execution_count": 10,
   "metadata": {},
   "outputs": [
    {
     "name": "stdout",
     "output_type": "stream",
     "text": [
      "Encrypted text: mrttaqrhknsw ih puggrur\n",
      "Key: python\n"
     ]
    }
   ],
   "source": [
    "# Pruebas\n",
    "text = 'mrttaqrhknsw ih puggrur'\n",
    "custom_key = 'python'\n",
    "\n",
    "def vigenere(message, key, direction=1):\n",
    "    key_index = 0\n",
    "    alphabet = 'abcdefghijklmnopqrstuvwxyz'\n",
    "    final_message = ''\n",
    "\n",
    "    for char in message.lower():\n",
    "\n",
    "        # Append any non-letter character to the message\n",
    "        if not char.isalpha():\n",
    "            final_message += char\n",
    "        else:        \n",
    "            # Find the right key character to encode/decode\n",
    "            key_char = key[key_index % len(key)]\n",
    "            key_index += 1\n",
    "\n",
    "            # Define the offset and the encrypted/decrypted letter\n",
    "            offset = alphabet.index(key_char)\n",
    "            index = alphabet.find(char)\n",
    "            new_index = (index + offset*direction) % len(alphabet)\n",
    "            final_message += alphabet[new_index]\n",
    "    \n",
    "    return final_message\n",
    "\n",
    "def encrypt(message, key):\n",
    "    return vigenere(message, key)\n",
    "    \n",
    "def decrypt(message, key):\n",
    "    return vigenere(message, key, -1)\n",
    "print('Encrypted text: ' + text)\n",
    "print('Key: ' + custom_key)\n",
    "\n",
    "#decryption = decrypt(encryption, custom_key)\n",
    "#print(decryption)"
   ]
  },
  {
   "cell_type": "markdown",
   "metadata": {},
   "source": [
    "FINAL : YA ENCRYPTADO Y DESCRYPTADO"
   ]
  },
  {
   "cell_type": "code",
   "execution_count": 12,
   "metadata": {},
   "outputs": [
    {
     "name": "stdout",
     "output_type": "stream",
     "text": [
      "\n",
      "Encrypted text: mrttaqrhknsw ih puggrur\n",
      "\n",
      "Key: happycoding\n",
      "\n",
      "Decrypted text: freecodecamp is awesome\n",
      "\n"
     ]
    }
   ],
   "source": [
    "text = 'mrttaqrhknsw ih puggrur'\n",
    "# custom_key = 'python'\n",
    "custom_key = 'happycoding'\n",
    "\n",
    "def vigenere(message, key, direction=1):\n",
    "    key_index = 0\n",
    "    alphabet = 'abcdefghijklmnopqrstuvwxyz'\n",
    "    final_message = ''\n",
    "\n",
    "    for char in message.lower():\n",
    "\n",
    "        # Append any non-letter character to the message\n",
    "        if not char.isalpha():\n",
    "            final_message += char\n",
    "        else:        \n",
    "            # Find the right key character to encode/decode\n",
    "            key_char = key[key_index % len(key)]\n",
    "            key_index += 1\n",
    "\n",
    "            # Define the offset and the encrypted/decrypted letter\n",
    "            offset = alphabet.index(key_char)\n",
    "            index = alphabet.find(char)\n",
    "            new_index = (index + offset*direction) % len(alphabet)\n",
    "            final_message += alphabet[new_index]\n",
    "    \n",
    "    return final_message\n",
    "\n",
    "def encrypt(message, key):\n",
    "    return vigenere(message, key)\n",
    "    \n",
    "def decrypt(message, key):\n",
    "    return vigenere(message, key, -1)\n",
    "\n",
    "print(f'\\nEncrypted text: {text}\\n')\n",
    "print(f'Key: {custom_key}')\n",
    "decryption = decrypt(text, custom_key)\n",
    "print(f'\\nDecrypted text: {decryption}\\n')"
   ]
  }
 ],
 "metadata": {
  "kernelspec": {
   "display_name": "ScientificComputing",
   "language": "python",
   "name": "python3"
  },
  "language_info": {
   "codemirror_mode": {
    "name": "ipython",
    "version": 3
   },
   "file_extension": ".py",
   "mimetype": "text/x-python",
   "name": "python",
   "nbconvert_exporter": "python",
   "pygments_lexer": "ipython3",
   "version": "3.12.3"
  }
 },
 "nbformat": 4,
 "nbformat_minor": 2
}
